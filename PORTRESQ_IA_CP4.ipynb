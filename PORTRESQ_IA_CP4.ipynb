{
  "nbformat": 4,
  "nbformat_minor": 0,
  "metadata": {
    "colab": {
      "provenance": []
    },
    "kernelspec": {
      "name": "python3",
      "display_name": "Python 3"
    },
    "language_info": {
      "name": "python"
    }
  },
  "cells": [
    {
      "cell_type": "code",
      "execution_count": 1,
      "metadata": {
        "colab": {
          "base_uri": "https://localhost:8080/"
        },
        "id": "qsUKM7OH_YPX",
        "outputId": "adae482d-11d1-439a-8f8c-63f63f2b4c28"
      },
      "outputs": [
        {
          "output_type": "stream",
          "name": "stdout",
          "text": [
            "Mounted at /content/drive\n"
          ]
        }
      ],
      "source": [
        "from google.colab import drive\n",
        "drive.mount('/content/drive')"
      ]
    },
    {
      "cell_type": "code",
      "source": [
        "from sklearn.model_selection import train_test_split\n",
        "from sklearn.ensemble import RandomForestClassifier\n",
        "import numpy as np\n",
        "import os\n",
        "from pdf2image import convert_from_path\n",
        "import joblib\n",
        "from flask import Flask, request, jsonify\n",
        "import cv2  # Importe o módulo cv2\n",
        "\n",
        "app = Flask(__name__)\n",
        "\n",
        "def get_label_from_filename(filename):\n",
        "    parts = filename.split(\"_\")\n",
        "    label = parts[0]\n",
        "    return label\n",
        "\n",
        "def convert_pdf_to_images(pdf_path, max_images=None):\n",
        "    images = []\n",
        "    pages = convert_from_path(pdf_path, 500, size=(800, None))\n",
        "\n",
        "    for page in pages[:max_images]:\n",
        "        images.append(np.array(page))\n",
        "\n",
        "    return np.array(images)\n",
        "\n",
        "def load_images(folder_path, max_images_per_pdf=None):\n",
        "    images = []\n",
        "    labels = []\n",
        "\n",
        "    for filename in os.listdir(folder_path):\n",
        "        if filename.endswith(\".pdf\"):\n",
        "            pdf_path = os.path.join(folder_path, filename)\n",
        "            pdf_images = convert_pdf_to_images(pdf_path, max_images=max_images_per_pdf)\n",
        "\n",
        "            for image in pdf_images:\n",
        "                images.append(image)\n",
        "                labels.append(get_label_from_filename(filename))\n",
        "\n",
        "    return np.array(images, dtype=object), np.array(labels)\n",
        "\n",
        "# Carregar imagens e rótulos (limitando o número de imagens por PDF para 5)\n",
        "pasta = \"/content/drive/My Drive/9 set 2019/Base Dados IA2/IA PortResq/basedados_IA/\"\n",
        "images, labels = load_images(pasta, max_images_per_pdf=5)\n",
        "X_train, X_test, y_train, y_test = train_test_split(images, labels, test_size=0.2, random_state=42)\n",
        "\n",
        "# Treinar o modelo\n",
        "model = RandomForestClassifier(n_estimators=100, random_state=42)\n",
        "\n",
        "# Ajustar a forma dos dados de treinamento\n",
        "common_size = (100, 100)  # Defina o tamanho comum desejado\n",
        "X_train_resized = np.array([cv2.resize(x, common_size) for x in X_train], dtype=object)\n",
        "X_train_flatten = np.array([x.flatten() for x in X_train_resized], dtype=object)\n",
        "X_train_flatten = np.vstack(X_train_flatten)\n",
        "\n",
        "model.fit(X_train_flatten, y_train)\n",
        "\n",
        "# Ajustar a forma dos dados de teste\n",
        "X_test_resized = np.array([cv2.resize(x, common_size) for x in X_test], dtype=object)\n",
        "X_test_flatten = np.array([x.flatten() for x in X_test_resized], dtype=object)\n",
        "X_test_flatten = np.vstack(X_test_flatten)\n",
        "\n",
        "# Avaliar o modelo\n",
        "accuracy = model.score(X_test_flatten, y_test)\n",
        "print(f\"Acurácia do modelo: {accuracy}\")\n",
        "\n",
        "# Salvar o modelo\n",
        "model_filename = \"/content/drive/My Drive/9 set 2019/Base Dados IA2/IA PortResq/modelo_rf.joblib\"\n",
        "joblib.dump(model, model_filename)\n",
        "print(f\"Modelo salvo em {model_filename}\")\n",
        "\n",
        "# Criar API Flask\n",
        "@app.route('/predict', methods=['POST'])\n",
        "def predict():\n",
        "    data = request.get_json()\n",
        "    input_images = np.array(data['images'], dtype=object)\n",
        "    input_images_resized = np.array([cv2.resize(x, common_size) for x in input_images], dtype=object)\n",
        "    input_images_flatten = np.array([x.flatten() for x in input_images_resized], dtype=object)\n",
        "    input_images_flatten = np.vstack(input_images_flatten)\n",
        "\n",
        "    predictions = model.predict(input_images_flatten)\n",
        "\n",
        "    return jsonify({'predictions': predictions.tolist()})\n",
        "\n",
        "# Executar a API no modo de desenvolvimento (não usar em produção)\n",
        "if __name__ == '__main__':\n",
        "    app.run(debug=True)\n"
      ],
      "metadata": {
        "colab": {
          "base_uri": "https://localhost:8080/"
        },
        "id": "OmGye88MAYjn",
        "outputId": "9e283456-65ef-4e5d-b22a-d060daeed7d1"
      },
      "execution_count": null,
      "outputs": [
        {
          "output_type": "stream",
          "name": "stdout",
          "text": [
            "Acurácia do modelo: 0.3333333333333333\n",
            "Modelo salvo em /content/drive/My Drive/9 set 2019/Base Dados IA2/IA PortResq/modelo_rf.joblib\n",
            " * Serving Flask app '__main__'\n",
            " * Debug mode: on\n"
          ]
        },
        {
          "output_type": "stream",
          "name": "stderr",
          "text": [
            "INFO:werkzeug:\u001b[31m\u001b[1mWARNING: This is a development server. Do not use it in a production deployment. Use a production WSGI server instead.\u001b[0m\n",
            " * Running on http://127.0.0.1:5000\n",
            "INFO:werkzeug:\u001b[33mPress CTRL+C to quit\u001b[0m\n",
            "INFO:werkzeug: * Restarting with stat\n"
          ]
        }
      ]
    },
    {
      "cell_type": "code",
      "source": [],
      "metadata": {
        "id": "jVzK8_dqYXR9"
      },
      "execution_count": null,
      "outputs": []
    }
  ]
}